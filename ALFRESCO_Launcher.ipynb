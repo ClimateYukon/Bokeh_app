{
 "cells": [
  {
   "cell_type": "raw",
   "metadata": {},
   "source": [
    "import IPython.core.display as di\n",
    "\n",
    "# This line will hide code by default when the notebook is exported as HTML\n",
    "di.display_html('<script>jQuery(function() {if (jQuery(\"body.notebook_app\").length == 0) { jQuery(\".input_area\").toggle(); jQuery(\".prompt\").toggle();}});</script>', raw=True)\n",
    "\n",
    "# This line will add a button to toggle visibility of code blocks, for use with the HTML export version\n",
    "di.display_html('''<button onclick=\"jQuery('.input_area').toggle(); jQuery('.prompt').toggle();\">Toggle code</button>''', raw=True)"
   ]
  },
  {
   "cell_type": "code",
   "execution_count": 5,
   "metadata": {
    "collapsed": true,
    "hideCode": false,
    "hidePrompt": false,
    "slideshow": {
     "slide_type": "-"
    }
   },
   "outputs": [],
   "source": [
    "from ipywidgets import interact, interactive, fixed, interact_manual, Layout, Box\n",
    "import ipywidgets as widgets\n",
    "from IPython.display import display ,Javascript\n",
    "import geopandas as gpd\n",
    "import itertools\n",
    "from datetime import datetime\n",
    "import os\n",
    "%matplotlib inline\n",
    "import numpy as np\n",
    "import matplotlib.pyplot as plt\n",
    "\n",
    "# i'd like to add a year slider and rep slider with some modif to the PPt\n",
    "\n",
    "box_layout = Layout(display='flex',\n",
    "                    flex_flow='row',\n",
    "                    align_items='stretch',\n",
    "                    border='None',\n",
    "                    width='100%')\n",
    "def run_below(ev):\n",
    "    display(Javascript('IPython.notebook.execute_cells_below()'))\n",
    "\n",
    "def run_below2(ev):\n",
    "    display(Javascript('IPython.notebook.execute_cells_below()'))\n",
    "    \n",
    "def run_model( chunk , cores ):\n",
    "    import subprocess, os\n",
    "    n=0\n",
    "    for i in chunk :\n",
    "        n=n+1\n",
    "        head = '#!/bin/sh\\n' + \\\n",
    "            '#SBATCH --ntasks=%s\\n' %cores + \\\n",
    "            '#SBATCH --nodes=1\\n' + \\\n",
    "            '#SBATCH --ntasks-per-node=%s\\n'%cores + \\\n",
    "            '#SBATCH --account=snap\\n' + \\\n",
    "            '#SBATCH --mail-type=FAIL\\n' + \\\n",
    "            '#SBATCH --mail-user=jschroder@alaska.edu\\n' + \\\n",
    "            '#SBATCH -p main\\n\\n' \\\n",
    "            'source ~/miniconda2/envs/ALFPP/bin/activate'\n",
    "\n",
    "        slurm_fn = 'PP_{}_{}.slurm'.format(datetime.now().strftime(\"%Y-%m-%d-%H-%M\"),n)\n",
    "        with open( slurm_fn, 'w' ) as f:\n",
    "            f.writelines( head + '\\n' )\n",
    "            f.writelines(i)\n",
    "\n",
    "        subprocess.call([ 'sbatch', slurm_fn ])\n",
    "    return 1\n",
    "            \n",
    "def chunkify(lst,n):\n",
    "    return [ lst[i::n] for i in range(n) ]\n",
    "\n",
    "def cmd_builder(script,model,base_path,shapefile_path,field,name,output_path):\n",
    "    return 'python ' + script + ' -p ' + \\\n",
    "                    str(os.path.join(base_path,model)) + ' -shp ' + str(shapefile_path) + ' -field ' + str(field) + ' -name ' + \\\n",
    "                    str(name) + ' -o ' + str(output_path)\n",
    "\n",
    "metrics = [ 'veg_counts','avg_fire_size','number_of_fires','all_fire_sizes','total_area_burned' ]\n",
    "rcp45_models  = ['GFDL-CM3', 'GISS-E2-R', 'NCAR-CCSM4', 'IPSL-CM5A-LR','MRI-CGCM3']\n",
    "layout = Layout(flex='0 1 auto', width='auto')\n",
    "\n",
    "button = widgets.Button(description=\"Click before continuing\")\n",
    "button_run = widgets.Button(description=\"Run!\")\n",
    "cores = widgets.IntSlider(\n",
    "    value=32,\n",
    "    min=1,\n",
    "    max=32,\n",
    "    step=1,\n",
    "    description='Cores',\n",
    "    disabled=False,\n",
    "    continuous_update=False,\n",
    "    orientation='horizontal',\n",
    "    readout=True,\n",
    "    readout_format='i',\n",
    "    slider_color='white'\n",
    ")\n",
    "nodes = widgets.IntSlider(\n",
    "    value=1,\n",
    "    min=1,\n",
    "    max=10,\n",
    "    step=1,\n",
    "    description='Nodes',\n",
    "    disabled=False,\n",
    "    continuous_update=False,\n",
    "    orientation='horizontal',\n",
    "    readout=True,\n",
    "    readout_format='i',\n",
    "    slider_color='white'\n",
    ")\n",
    "years = widgets.IntRangeSlider(\n",
    "    value=[1900, 2100],\n",
    "    min=1900,\n",
    "    max=2100,\n",
    "    step=1,\n",
    "    description='Years',\n",
    "    disabled=False,\n",
    "    continuous_update=False,\n",
    "    orientation='horizontal',\n",
    "    readout=True,\n",
    "    readout_format='i',\n",
    "    slider_color='white',\n",
    "    color='black'\n",
    ")\n",
    "historical_path = widgets.Text(\n",
    "    value='/Data/Base_Data/ALFRESCO/ALFRESCO_Master_Dataset/ALFRESCO_Model_Input_Datasets/AK_CAN_Inputs/Fire'\n",
    ",\n",
    "    description='Historical Path:',\n",
    "    disabled=False,\n",
    "    layout=layout\n",
    ")\n",
    "base_path = widgets.Text(\n",
    "    value='/atlas_scratch/apbennett/Calibration/HighCalib/FMO_Calibrated',\n",
    "    description='Base path:',\n",
    "    disabled=False,\n",
    "    layout=layout\n",
    ")\n",
    "script_path = widgets.Text(\n",
    "    value='/workspace/Shared/Users/jschroder/Github/ALFRESCO/PP_launcher.py'\n",
    ",\n",
    "    description='Launcher Path:',\n",
    "    disabled=False,\n",
    "    layout=layout\n",
    ")\n",
    "CSV = widgets.Checkbox(\n",
    "    value=False,\n",
    "    description=\"CSV\",\n",
    "    disabled=False\n",
    ")\n",
    "output_path = widgets.Text(\n",
    "    value=\"/atlas_scratch/jschroder/ALF_outputs/ALF_PP_{}\".format(datetime.now().strftime(\"%Y-%m-%d-%H-%M\")\n",
    "),\n",
    "    description='Output Path :',\n",
    "    disabled=False,\n",
    "    layout=layout\n",
    ")\n",
    "metrics = widgets.SelectMultiple(\n",
    "    options=metrics,\n",
    "    value=[],\n",
    "    description='Metrics',\n",
    "    disabled=False\n",
    ")\n",
    "model = widgets.SelectMultiple(\n",
    "    options=rcp45_models,\n",
    "    value=[],\n",
    "    description='RCP45',\n",
    "    disabled=False\n",
    ")\n",
    "scenario = widgets.SelectMultiple(\n",
    "    options=['rcp45','rcp60','rcp85'],\n",
    "    value=[],\n",
    "    description='Scenarios',\n",
    "    disabled=False\n",
    ")\n",
    "FMO = widgets.SelectMultiple(\n",
    "    options=['NoFMO','Normal','AltFMO','PreFMO'],\n",
    "    value=['Normal'],\n",
    "    description='FMPO',\n",
    "    disabled=False\n",
    ")\n",
    "shapefile_path = widgets.Text(\n",
    "    value='/workspace/Shared/Users/jschroder/Alec_Alfresco_PP_improvements/Data/Shapefile/Boreal_Tundra_CombinedDomains.shp',\n",
    "    description='Shapefile Path:',\n",
    "    disabled=False,\n",
    "    layout=layout\n",
    ")\n",
    "hist = widgets.Checkbox(\n",
    "    value=False,\n",
    "    description='Historical',\n",
    "    disabled=False\n",
    ")"
   ]
  },
  {
   "cell_type": "markdown",
   "metadata": {
    "hideCode": false,
    "hidePrompt": false
   },
   "source": [
    "**Set the reference folders :**"
   ]
  },
  {
   "cell_type": "code",
   "execution_count": 23,
   "metadata": {
    "hideCode": false,
    "hidePrompt": false
   },
   "outputs": [
    {
     "data": {
      "application/vnd.jupyter.widget-view+json": {
       "model_id": "3e8f587b11c44f78b0dd0e105ab1e380"
      }
     },
     "metadata": {},
     "output_type": "display_data"
    },
    {
     "data": {
      "application/vnd.jupyter.widget-view+json": {
       "model_id": "dc57020aab7f4dbb8e1c0d15e4944199"
      }
     },
     "metadata": {},
     "output_type": "display_data"
    },
    {
     "data": {
      "application/vnd.jupyter.widget-view+json": {
       "model_id": "5d5c2f096d074c0a9814ee3201764ee5"
      }
     },
     "metadata": {},
     "output_type": "display_data"
    },
    {
     "data": {
      "application/vnd.jupyter.widget-view+json": {
       "model_id": "65c13472af0542d3ba32329568e4f198"
      }
     },
     "metadata": {},
     "output_type": "display_data"
    },
    {
     "data": {
      "application/vnd.jupyter.widget-view+json": {
       "model_id": "da0d006838954c3f9bfaa5cf93f92775"
      }
     },
     "metadata": {},
     "output_type": "display_data"
    }
   ],
   "source": [
    "display(script_path)\n",
    "display(base_path)\n",
    "display(historical_path)\n",
    "display(output_path)\n",
    "display(shapefile_path)"
   ]
  },
  {
   "cell_type": "code",
   "execution_count": 24,
   "metadata": {
    "collapsed": true
   },
   "outputs": [],
   "source": [
    "if not os.path.exists( output_path.value ):\n",
    "    os.makedirs( output_path.value )\n"
   ]
  },
  {
   "cell_type": "markdown",
   "metadata": {
    "hideCode": false,
    "hideOutput": true,
    "hidePrompt": false
   },
   "source": [
    "**Set numerical parameters :**"
   ]
  },
  {
   "cell_type": "code",
   "execution_count": 9,
   "metadata": {
    "hideCode": false,
    "hideOutput": true,
    "hidePrompt": false
   },
   "outputs": [
    {
     "data": {
      "application/vnd.jupyter.widget-view+json": {
       "model_id": "5c9de91c137542a988848d4018d664e7"
      }
     },
     "metadata": {},
     "output_type": "display_data"
    },
    {
     "data": {
      "application/vnd.jupyter.widget-view+json": {
       "model_id": "885818d22998401c9162bd39ca48dd2e"
      }
     },
     "metadata": {},
     "output_type": "display_data"
    },
    {
     "data": {
      "application/vnd.jupyter.widget-view+json": {
       "model_id": "5700bc6fad844879837b4a2b8b1373a9"
      }
     },
     "metadata": {},
     "output_type": "display_data"
    }
   ],
   "source": [
    "display(nodes)\n",
    "display(cores)\n",
    "display(years)"
   ]
  },
  {
   "cell_type": "markdown",
   "metadata": {
    "hideCode": false,
    "hidePrompt": false
   },
   "source": [
    "**Metrics to be computed :**"
   ]
  },
  {
   "cell_type": "code",
   "execution_count": 10,
   "metadata": {
    "hideCode": false,
    "hidePrompt": false
   },
   "outputs": [
    {
     "data": {
      "application/vnd.jupyter.widget-view+json": {
       "model_id": "a94a17d8bce741529217deaa405c752c"
      }
     },
     "metadata": {},
     "output_type": "display_data"
    }
   ],
   "source": [
    "display(metrics)"
   ]
  },
  {
   "cell_type": "markdown",
   "metadata": {
    "hideCode": false,
    "hidePrompt": false
   },
   "source": [
    "**Models, Scenarios and FMO options to be computed :**"
   ]
  },
  {
   "cell_type": "code",
   "execution_count": 11,
   "metadata": {
    "hideCode": false,
    "hidePrompt": false
   },
   "outputs": [
    {
     "data": {
      "application/vnd.jupyter.widget-view+json": {
       "model_id": "0fcb0e7680fb44aa8353e0676704f345"
      }
     },
     "metadata": {},
     "output_type": "display_data"
    }
   ],
   "source": [
    "\n",
    "box = Box(children=[model,scenario,FMO], layout=box_layout)\n",
    "display(box)\n",
    "\n"
   ]
  },
  {
   "cell_type": "markdown",
   "metadata": {
    "hideCode": false,
    "hidePrompt": false
   },
   "source": [
    "**Optional computation :**"
   ]
  },
  {
   "cell_type": "code",
   "execution_count": 12,
   "metadata": {
    "hideCode": false,
    "hidePrompt": false
   },
   "outputs": [
    {
     "data": {
      "application/vnd.jupyter.widget-view+json": {
       "model_id": "51705d293057454f9db7f4ef57f7457e"
      }
     },
     "metadata": {},
     "output_type": "display_data"
    },
    {
     "data": {
      "application/vnd.jupyter.widget-view+json": {
       "model_id": "f8393f4ae4a644af8c45ab5476f9c087"
      }
     },
     "metadata": {},
     "output_type": "display_data"
    }
   ],
   "source": [
    "a=itertools.product(model.value,scenario.value,FMO.value)\n",
    "l = [ \"_\".join(i) for i in a]\n",
    "display(hist)\n",
    "display(CSV)\n"
   ]
  },
  {
   "cell_type": "code",
   "execution_count": 13,
   "metadata": {
    "hideCode": false,
    "hidePrompt": false
   },
   "outputs": [
    {
     "data": {
      "application/vnd.jupyter.widget-view+json": {
       "model_id": "1faee385fbaa4c0195a60ecc7102c922"
      }
     },
     "metadata": {},
     "output_type": "display_data"
    }
   ],
   "source": [
    "\n",
    "button.on_click(run_below)\n",
    "display(button)"
   ]
  },
  {
   "cell_type": "markdown",
   "metadata": {
    "hideCode": false,
    "hidePrompt": false
   },
   "source": [
    "**Elements to be computed :**"
   ]
  },
  {
   "cell_type": "code",
   "execution_count": 25,
   "metadata": {
    "hideCode": false,
    "hidePrompt": false
   },
   "outputs": [
    {
     "name": "stdout",
     "output_type": "stream",
     "text": [
      "GFDL-CM3_rcp85\n",
      "GISS-E2-R_rcp85\n",
      "NCAR-CCSM4_rcp85\n",
      "IPSL-CM5A-LR_rcp85\n",
      "MRI-CGCM3_rcp85\n"
     ]
    }
   ],
   "source": [
    "a=itertools.product(model.value,scenario.value,FMO.value)\n",
    "l = [ \"_\".join(i) for i in a]\n",
    "l= [i.replace('_Normal','') for i in l if \"_Normal\" in i]\n",
    "for i in l :\n",
    "    print(i)"
   ]
  },
  {
   "cell_type": "code",
   "execution_count": 26,
   "metadata": {
    "hideCode": false,
    "hidePrompt": false
   },
   "outputs": [
    {
     "name": "stdout",
     "output_type": "stream",
     "text": [
      "Shapefile's attribute table :\n",
      "\n",
      "    Id    Name                                           geometry\n",
      "0  1.0  Boreal  (POLYGON ((-251965.7485199124 1818649.32538744...\n",
      "1  2.0  Tundra  (POLYGON ((-407522.7285999991 972567.568700000...\n"
     ]
    }
   ],
   "source": [
    "if len(l)>0 :\n",
    "    shapefile = gpd.read_file(shapefile_path.value)\n",
    "    print(\"Shapefile's attribute table :\\n\")\n",
    "    print(shapefile.head())\n",
    "\n",
    "#     shapefile.plot()\n",
    "#     plt.title(\"Shapefile's preview\")\n",
    "#     plt.axis('off')\n",
    "\n",
    "    \n",
    "else : print(\"ERROR : at least one model, scenarios and FMPO need to be selected\")"
   ]
  },
  {
   "cell_type": "markdown",
   "metadata": {
    "hideCode": false,
    "hidePrompt": false
   },
   "source": [
    "**What is the unique integral identifier?**"
   ]
  },
  {
   "cell_type": "code",
   "execution_count": 27,
   "metadata": {
    "hideCode": false,
    "hidePrompt": false
   },
   "outputs": [
    {
     "data": {
      "application/vnd.jupyter.widget-view+json": {
       "model_id": "385de6108a9a479f83e01b96cf2a2211"
      }
     },
     "metadata": {},
     "output_type": "display_data"
    }
   ],
   "source": [
    "if len(l)>0 :\n",
    "    id_field = widgets.Dropdown(\n",
    "        options=list([\"None\"]) + list(shapefile.head()),\n",
    "        value=\"None\",\n",
    "        description='ID field :',\n",
    "        disabled=False)\n",
    "    \n",
    "\n",
    "    display(id_field)\n",
    "else : print(\"ERROR : at least one model, scenarios and FMPO need to be selected\")"
   ]
  },
  {
   "cell_type": "markdown",
   "metadata": {
    "hideCode": false,
    "hidePrompt": false
   },
   "source": [
    "**What field contain the domain's names?**"
   ]
  },
  {
   "cell_type": "code",
   "execution_count": 28,
   "metadata": {
    "hideCode": false,
    "hidePrompt": false
   },
   "outputs": [
    {
     "data": {
      "application/vnd.jupyter.widget-view+json": {
       "model_id": "c9faabd7fcb443189fc1ed4a30c428b2"
      }
     },
     "metadata": {},
     "output_type": "display_data"
    }
   ],
   "source": [
    "if len(l)>0 :\n",
    "    name = widgets.Dropdown(\n",
    "        options=list([\"None\"]) + list(shapefile.head()),\n",
    "        value=\"None\",\n",
    "        description='Name field :',\n",
    "        disabled=False)\n",
    "\n",
    "\n",
    "    display(name)\n",
    "else : print(\"ERROR : at least one model, scenarios and FMPO need to be selected\")"
   ]
  },
  {
   "cell_type": "code",
   "execution_count": 29,
   "metadata": {
    "hideCode": false,
    "hidePrompt": false
   },
   "outputs": [
    {
     "data": {
      "application/javascript": [
       "IPython.notebook.execute_cells_below()"
      ],
      "text/plain": [
       "<IPython.core.display.Javascript object>"
      ]
     },
     "metadata": {},
     "output_type": "display_data"
    },
    {
     "data": {
      "application/vnd.jupyter.widget-view+json": {
       "model_id": "0e2bac3c9ea54b71a2ebddb4c87f6c96"
      }
     },
     "metadata": {},
     "output_type": "display_data"
    }
   ],
   "source": [
    "button_run.on_click(run_below2)\n",
    "display(button_run)"
   ]
  },
  {
   "cell_type": "code",
   "execution_count": 30,
   "metadata": {
    "hideCode": false,
    "hidePrompt": false
   },
   "outputs": [],
   "source": [
    "if len(l)>0 :\n",
    "    if ((id_field.value!='None') & (name.value!='None')) :\n",
    "        cmd =[cmd_builder(script_path.value,i,base_path.value,shapefile_path.value,id_field.value,name.value,output_path.value)+'\\n' for i in l]\n",
    "        chunk = chunkify(cmd,nodes.value)\n",
    "        run_model(chunk,nodes.value)\n",
    "\n",
    "    else : print(\"ERROR : Please select an ID field, a name field and click Run\")"
   ]
  },
  {
   "cell_type": "code",
   "execution_count": null,
   "metadata": {
    "collapsed": true
   },
   "outputs": [],
   "source": []
  }
 ],
 "metadata": {
  "hide_code_all_hidden": false,
  "kernelspec": {
   "display_name": "Python 2",
   "language": "python",
   "name": "python2"
  },
  "language_info": {
   "codemirror_mode": {
    "name": "ipython",
    "version": 2
   },
   "file_extension": ".py",
   "mimetype": "text/x-python",
   "name": "python",
   "nbconvert_exporter": "python",
   "pygments_lexer": "ipython2",
   "version": "2.7.13"
  },
  "widgets": {
   "state": {
    "1d55def82a724ae29efa51c44124d370": {
     "views": [
      {
       "cell_index": 3
      }
     ]
    },
    "23e788d6a0dc4517822e995bc7f1947a": {
     "views": [
      {
       "cell_index": 13
      }
     ]
    },
    "34b3d0c4a578449db778330ede6393e5": {
     "views": [
      {
       "cell_index": 6
      }
     ]
    },
    "3614c0d5bbca4853a1e3ee59ac3a3386": {
     "views": [
      {
       "cell_index": 3
      }
     ]
    },
    "400f8eb2c91441d38c4f9e66b2c480e8": {
     "views": [
      {
       "cell_index": 3
      }
     ]
    },
    "6ce71eb0effa440696e0f7f93ad2eac9": {
     "views": [
      {
       "cell_index": 6
      }
     ]
    },
    "72c56569aa0042f798e87ce143b76ff1": {
     "views": [
      {
       "cell_index": 6
      }
     ]
    },
    "743c7eea7648448daddb704fdade92c4": {
     "views": [
      {
       "cell_index": 8
      }
     ]
    },
    "76eba730efb944ec8568fbd415edb7bd": {
     "views": [
      {
       "cell_index": 21
      }
     ]
    },
    "7a85ef17f64147b2931ae0df642de2b5": {
     "views": [
      {
       "cell_index": 3
      }
     ]
    },
    "a4f89c9757d6483cb8a8fff54f5eb2bd": {
     "views": [
      {
       "cell_index": 12
      }
     ]
    },
    "a770065c5f354ff4a52e34c6019abf35": {
     "views": [
      {
       "cell_index": 3
      }
     ]
    },
    "b0128759282d46fa8d9ae340fb0d42b4": {
     "views": [
      {
       "cell_index": 10
      }
     ]
    },
    "f769615dd31d47c09f4e32cd29142236": {
     "views": [
      {
       "cell_index": 12
      }
     ]
    }
   },
   "version": "1.2.0"
  }
 },
 "nbformat": 4,
 "nbformat_minor": 2
}
